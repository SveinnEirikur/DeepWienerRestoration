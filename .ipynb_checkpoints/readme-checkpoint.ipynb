{
 "cells": [
  {
   "cell_type": "markdown",
   "metadata": {},
   "source": [
    "# Deep Wiener-Kolmogorov Filters"
   ]
  },
  {
   "cell_type": "markdown",
   "metadata": {},
   "source": [
    "Implementation of the joint deblurring and denoising of the microscopy images distorted with Gaussian and Poisson noise as described in the paper **\"Microscopy Image Restoration with Deep Wiener-Kolmogorov Filters\" (ECCV2020)**.\n",
    "\n",
    "The project website is https://vpronina.github.io/resources/project.htm"
   ]
  },
  {
   "cell_type": "markdown",
   "metadata": {},
   "source": [
    "### Dependencies"
   ]
  },
  {
   "cell_type": "markdown",
   "metadata": {},
   "source": [
    "The code uses the external packages that can be installed with ```packagelist.txt```."
   ]
  },
  {
   "cell_type": "markdown",
   "metadata": {},
   "source": [
    "## Models"
   ]
  },
  {
   "cell_type": "markdown",
   "metadata": {},
   "source": [
    "We provide models for joint denoising and deblurring that are based on deep learning techniques for the approximation of learnable prior information integrated into the Wiener-Kolmogorov filter:\n",
    "\n",
    "- Wiener filter with learnable identical kernels (WF-K)\n",
    "- Wiener filter with predictable kernels per-image (WF-KPN)\n",
    "- Deconvolution with predictable gradient of regularizer per-image (WF-UNet)\n",
    "\n",
    "We also provide the UNet that was used as the base of three algorithms."
   ]
  },
  {
   "cell_type": "markdown",
   "metadata": {},
   "source": [
    "## Evaluation"
   ]
  },
  {
   "cell_type": "markdown",
   "metadata": {},
   "source": [
    "To have an idea about the models evaluation, you can run `Demo_Gaussian.ipynb` and `Demo_Poisson.ipynb` for the Gaussian and Poisson noise case respectively."
   ]
  },
  {
   "cell_type": "markdown",
   "metadata": {},
   "source": [
    "Run the following command to evaluate the model:\n",
    "\n",
    "```python *.py file* --method *select algorithm* --test_std *select test std* --model_path ./models/ --noise_mode gaussian --visual 1 --use_gpu 1``` "
   ]
  },
  {
   "cell_type": "markdown",
   "metadata": {},
   "source": [
    "For example, to evaluate WF-UNet on Gaussian noise with std = 0.01, use GPU and save the output images run:\n",
    "\n",
    "```python main-Gaussian.py --method WF_UNet --test_std 0.01 --model_path ./models/ --noise_mode gaussian --visual 1 --use_gpu 1``` \n",
    "\n",
    "To evaluate WF-K on Poisson noise with peak = 25 and do not save the output images and do not use GPU run:\n",
    "\n",
    "```python main-Poisson.py --method WFK --test_scale 25. --model_path ./models/ --noise_mode poisson --visual 0 --use_gpu 0``` "
   ]
  },
  {
   "cell_type": "markdown",
   "metadata": {},
   "source": [
    "## Hyperparameters"
   ]
  },
  {
   "cell_type": "markdown",
   "metadata": {},
   "source": [
    "```\n",
    "usage: main-Gaussian.py [-h] [--method METHOD] [--model_path MODEL_PATH]\n",
    "                        [--test_std TEST_STD] [--visual VISUAL]\n",
    "                        [--use_gpu USE_GPU]\n",
    "\n",
    "Image deconvolution with trainable algorithms\n",
    "\n",
    "optional arguments:\n",
    "  -h, --help            show this help message and exit\n",
    "  --method METHOD       Define algorithm to run\n",
    "  --model_path MODEL_PATH\n",
    "                        Path to the models\n",
    "  --test_std TEST_STD   Standard deviation of the Gaussian noise\n",
    "  --visual VISUAL       Save (visual=1) or not (visual=0) evaluated results\n",
    "                        during test\n",
    "  --use_gpu USE_GPU     Use GPU (use_gpu=1) or CPU (use_gpu=0) for evaluation\n",
    "\n",
    "\n",
    "```\n"
   ]
  },
  {
   "cell_type": "markdown",
   "metadata": {},
   "source": [
    "```\n",
    "usage: main-Poisson.py [-h] [--method METHOD] [--model_path MODEL_PATH]\n",
    "                       [--visual VISUAL] [--use_gpu USE_GPU]\n",
    "                       [--test_scale TEST_SCALE]\n",
    "\n",
    "Image deconvolution with trainable algorithms\n",
    "\n",
    "optional arguments:\n",
    "  -h, --help            show this help message and exit\n",
    "  --method METHOD       Define algorithm to run\n",
    "  --model_path MODEL_PATH\n",
    "                        Path to the models\n",
    "  --visual VISUAL       Save (visual=1) or not (visual=0) evaluated results\n",
    "                        during test\n",
    "  --use_gpu USE_GPU     Use GPU (use_gpu=1) or CPU (use_gpu=0) for evaluation\n",
    "  --test_scale TEST_SCALE\n",
    "                        Peak value for the ground truth image rescaling to\n",
    "                        simulate various levels of Poisson noise\n",
    "                        \n",
    "```"
   ]
  },
  {
   "cell_type": "markdown",
   "metadata": {},
   "source": [
    "## Note\n",
    "\n",
    "Below there are tables with the new obtained with the longer training of our models results.\n"
   ]
  }
 ],
 "metadata": {
  "kernelspec": {
   "display_name": "Python 3",
   "language": "python",
   "name": "python3"
  },
  "language_info": {
   "codemirror_mode": {
    "name": "ipython",
    "version": 3
   },
   "file_extension": ".py",
   "mimetype": "text/x-python",
   "name": "python",
   "nbconvert_exporter": "python",
   "pygments_lexer": "ipython3",
   "version": "3.7.9"
  }
 },
 "nbformat": 4,
 "nbformat_minor": 2
}
