{
 "cells": [
  {
   "cell_type": "code",
   "execution_count": 1,
   "metadata": {},
   "outputs": [],
   "source": [
    "import numpy as np\n",
    "import torch\n",
    "import matplotlib.pyplot as plt\n",
    "import torch.nn as nn\n",
    "from skimage import io\n",
    "from dataloader import CellDataset\n",
    "from torch.utils.data import DataLoader\n",
    "from modules import *\n",
    "from networks import UNet\n",
    "from functions import *\n",
    "from utils import *\n",
    "import os\n",
    "from ssim import ssim\n",
    "from instruments import model_load, edgetaper"
   ]
  },
  {
   "cell_type": "code",
   "execution_count": 17,
   "metadata": {},
   "outputs": [],
   "source": [
    "import torch.nn.functional as F"
   ]
  },
  {
   "cell_type": "code",
   "execution_count": 28,
   "metadata": {},
   "outputs": [],
   "source": [
    "model_path = './models/'\n",
    "\n",
    "#Select method\n",
    "method='WFK' #from 'WFK', 'WF_KPN', 'WF_UNet'\n",
    "\n",
    "# model = model_load('gaussian', method, model_path)"
   ]
  },
  {
   "cell_type": "code",
   "execution_count": 77,
   "metadata": {},
   "outputs": [],
   "source": [
    "model_name = 'WFK_poisson'"
   ]
  },
  {
   "cell_type": "code",
   "execution_count": 83,
   "metadata": {},
   "outputs": [],
   "source": [
    "state_dict = torch.load(os.path.join(model_path, model_name))"
   ]
  },
  {
   "cell_type": "code",
   "execution_count": 84,
   "metadata": {},
   "outputs": [
    {
     "data": {
      "text/plain": [
       "{'model_state_dict': OrderedDict([('module.alpha',\n",
       "               tensor([[0.7842]], device='cuda:0')),\n",
       "              ('module.g_ker',\n",
       "               tensor([[[[ 3.6132e-04, -5.8804e-05, -7.3315e-04],\n",
       "                         [ 6.3738e-01, -3.1424e-04, -6.3932e-01],\n",
       "                         [ 1.1693e-03,  1.6646e-04, -5.0267e-03]]],\n",
       "               \n",
       "               \n",
       "                       [[[ 2.4006e-01, -4.4176e-01,  2.5874e-01],\n",
       "                         [ 1.8457e-01, -5.3911e-01,  1.8457e-01],\n",
       "                         [ 2.5874e-01, -4.4176e-01,  2.4006e-01]]],\n",
       "               \n",
       "               \n",
       "                       [[[ 1.3020e-03,  6.4305e-01,  5.8185e-03],\n",
       "                         [ 3.0653e-05,  7.3985e-05,  1.3471e-04],\n",
       "                         [-1.7820e-03, -6.4410e-01, -4.3909e-04]]],\n",
       "               \n",
       "               \n",
       "                       [[[ 6.4921e-01,  9.5642e-05, -5.3202e-01],\n",
       "                         [ 5.0542e-04,  1.8350e-04, -5.3336e-04],\n",
       "                         [-4.3918e-01, -1.2700e-04,  3.2580e-01]]],\n",
       "               \n",
       "               \n",
       "                       [[[-2.6279e-04, -7.9103e-01, -2.6262e-04],\n",
       "                         [-9.9865e-05, -3.0833e-04,  1.0538e-04],\n",
       "                         [-7.0186e-06,  7.9046e-01,  3.2272e-04]]],\n",
       "               \n",
       "               \n",
       "                       [[[ 2.3802e-01,  1.8532e-01,  2.5920e-01],\n",
       "                         [-4.4224e-01, -5.3922e-01, -4.4224e-01],\n",
       "                         [ 2.5920e-01,  1.8532e-01,  2.3802e-01]]],\n",
       "               \n",
       "               \n",
       "                       [[[-2.0490e-04, -9.2936e-05,  6.1741e-04],\n",
       "                         [-7.9046e-01,  1.4809e-04,  7.9057e-01],\n",
       "                         [-1.2744e-04, -2.2525e-05,  1.5302e-03]]],\n",
       "               \n",
       "               \n",
       "                       [[[ 1.3421e-01, -3.1446e-01,  1.2587e-01],\n",
       "                         [-3.1182e-01,  7.4064e-01, -3.1181e-01],\n",
       "                         [ 1.2585e-01, -3.1447e-01,  1.3421e-01]]]], device='cuda:0'))]),\n",
       " 'optimizer_state_dict': {'state': {140512590583920: {'step': 1131,\n",
       "    'exp_avg': tensor([[-0.0077]], device='cuda:0'),\n",
       "    'exp_avg_sq': tensor([[0.0001]], device='cuda:0')},\n",
       "   140512590585288: {'step': 1131,\n",
       "    'exp_avg': tensor([[[[-1.1320e-04,  5.9200e-04, -1.7991e-04],\n",
       "              [-3.1614e-06, -1.5280e-04,  2.5460e-06],\n",
       "              [ 1.1259e-04, -7.1545e-04,  2.6871e-04]]],\n",
       "    \n",
       "    \n",
       "            [[[ 7.1712e-05,  5.8101e-05,  6.7107e-05],\n",
       "              [ 1.1127e-04,  1.1054e-04,  1.1127e-04],\n",
       "              [ 6.7105e-05,  5.8100e-05,  7.1713e-05]]],\n",
       "    \n",
       "    \n",
       "            [[[ 1.9265e-05,  1.4238e-05, -3.2354e-05],\n",
       "              [ 6.6024e-04,  6.4794e-04,  4.0631e-04],\n",
       "              [-1.0585e-04,  1.8915e-05, -6.2609e-05]]],\n",
       "    \n",
       "    \n",
       "            [[[-3.9187e-04, -5.9855e-06,  4.8007e-05],\n",
       "              [ 2.0103e-05,  5.1115e-05,  1.9020e-05],\n",
       "              [-1.9040e-04, -4.1513e-05,  5.6465e-04]]],\n",
       "    \n",
       "    \n",
       "            [[[ 1.8748e-04, -2.1266e-06, -1.1198e-04],\n",
       "              [ 4.4865e-04, -3.0735e-04,  3.8969e-04],\n",
       "              [ 1.4131e-04, -3.9922e-06, -5.8867e-07]]],\n",
       "    \n",
       "    \n",
       "            [[[ 8.4988e-05,  1.2255e-04,  7.9255e-05],\n",
       "              [ 7.0319e-05,  1.2146e-04,  7.0319e-05],\n",
       "              [ 7.9252e-05,  1.2255e-04,  8.4985e-05]]],\n",
       "    \n",
       "    \n",
       "            [[[-6.8590e-05,  3.6025e-04, -2.0762e-05],\n",
       "              [ 1.0578e-05, -7.2687e-04,  9.2511e-06],\n",
       "              [ 1.1809e-04,  1.6968e-04, -1.0561e-05]]],\n",
       "    \n",
       "    \n",
       "            [[[-6.6813e-06, -3.1635e-05, -4.0877e-06],\n",
       "              [-3.2992e-05, -5.0997e-05, -3.3025e-05],\n",
       "              [-4.0342e-06, -3.1611e-05, -6.6896e-06]]]], device='cuda:0'),\n",
       "    'exp_avg_sq': tensor([[[[1.4625e-07, 1.1454e-05, 1.8706e-06],\n",
       "              [2.3181e-08, 1.1455e-05, 2.3483e-08],\n",
       "              [1.7187e-06, 1.1430e-05, 1.8795e-07]]],\n",
       "    \n",
       "    \n",
       "            [[[6.1909e-07, 4.6023e-07, 6.1857e-07],\n",
       "              [6.4486e-07, 4.9796e-07, 6.4486e-07],\n",
       "              [6.1857e-07, 4.6023e-07, 6.1909e-07]]],\n",
       "    \n",
       "    \n",
       "            [[[1.8268e-06, 2.7244e-08, 7.6794e-07],\n",
       "              [1.3512e-05, 1.3538e-05, 1.3489e-05],\n",
       "              [6.8778e-07, 2.5918e-08, 1.8243e-06]]],\n",
       "    \n",
       "    \n",
       "            [[[1.0561e-07, 4.2406e-07, 7.7426e-08],\n",
       "              [4.3521e-07, 4.2532e-07, 4.2011e-07],\n",
       "              [8.0157e-08, 4.2470e-07, 1.1511e-07]]],\n",
       "    \n",
       "    \n",
       "            [[[4.4298e-06, 2.2618e-07, 3.2284e-06],\n",
       "              [8.0191e-06, 8.0301e-06, 7.9962e-06],\n",
       "              [3.3000e-06, 2.3203e-07, 4.4788e-06]]],\n",
       "    \n",
       "    \n",
       "            [[[6.3074e-07, 6.5670e-07, 6.3003e-07],\n",
       "              [4.6807e-07, 5.0631e-07, 4.6807e-07],\n",
       "              [6.3003e-07, 6.5670e-07, 6.3074e-07]]],\n",
       "    \n",
       "    \n",
       "            [[[4.5077e-06, 7.8217e-06, 3.2687e-06],\n",
       "              [2.2165e-07, 7.8349e-06, 2.2755e-07],\n",
       "              [3.2045e-06, 7.7864e-06, 4.6927e-06]]],\n",
       "    \n",
       "    \n",
       "            [[[1.3233e-07, 1.6732e-07, 1.3296e-07],\n",
       "              [1.6718e-07, 1.2645e-07, 1.6718e-07],\n",
       "              [1.3296e-07, 1.6732e-07, 1.3233e-07]]]], device='cuda:0')}},\n",
       "  'param_groups': [{'lr': 0.001,\n",
       "    'betas': (0.9, 0.999),\n",
       "    'eps': 1e-08,\n",
       "    'weight_decay': 0,\n",
       "    'amsgrad': False,\n",
       "    'params': [140512590583920, 140512590585288]}]}}"
      ]
     },
     "execution_count": 84,
     "metadata": {},
     "output_type": "execute_result"
    }
   ],
   "source": [
    "state_dict"
   ]
  },
  {
   "cell_type": "code",
   "execution_count": 81,
   "metadata": {},
   "outputs": [
    {
     "data": {
      "text/plain": [
       "28.932304"
      ]
     },
     "execution_count": 81,
     "metadata": {},
     "output_type": "execute_result"
    }
   ],
   "source": [
    "state_dict.pop('psnr', None)"
   ]
  },
  {
   "cell_type": "code",
   "execution_count": 82,
   "metadata": {},
   "outputs": [],
   "source": [
    "torch.save(state_dict, os.path.join(model_path, model_name))"
   ]
  }
 ],
 "metadata": {
  "kernelspec": {
   "display_name": "Python 3",
   "language": "python",
   "name": "python3"
  },
  "language_info": {
   "codemirror_mode": {
    "name": "ipython",
    "version": 3
   },
   "file_extension": ".py",
   "mimetype": "text/x-python",
   "name": "python",
   "nbconvert_exporter": "python",
   "pygments_lexer": "ipython3",
   "version": "3.7.9"
  }
 },
 "nbformat": 4,
 "nbformat_minor": 2
}
